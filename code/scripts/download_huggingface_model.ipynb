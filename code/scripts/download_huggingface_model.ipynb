{
 "cells": [
  {
   "cell_type": "code",
   "execution_count": null,
   "metadata": {},
   "outputs": [],
   "source": [
    "%pip install huggingface_hub"
   ]
  },
  {
   "cell_type": "code",
   "execution_count": null,
   "metadata": {},
   "outputs": [],
   "source": [
    "import os\n",
    "from huggingface_hub import hf_hub_download\n",
    "\n",
    "# clash 自带端口设置转发 😓\n",
    "os.environ['http_proxy'] = 'http://localhost:7890'\n",
    "os.environ['https_proxy'] = 'http://localhost:7890'"
   ]
  },
  {
   "cell_type": "code",
   "execution_count": null,
   "metadata": {},
   "outputs": [],
   "source": [
    "repo_id = 'openai-community/gpt2-medium'\n",
    "save_dir = \"../../models/openai-gpt2/\"  # define your save dir\n",
    "\n",
    "# choose what you want to download from website \n",
    "filenames = [\"tokenizer.json\", \"tokenizer_config.json\", \"vocab.json\", \"config.json\", \"merges.txt\",\n",
    "             \"pytorch_model.bin\"]\n",
    "for filename in filenames:\n",
    "    hf_hub_download(repo_id=repo_id, local_dir=save_dir, filename=filename)"
   ]
  }
 ],
 "metadata": {
  "kernelspec": {
   "display_name": "Python 3",
   "language": "python",
   "name": "python3"
  },
  "language_info": {
   "codemirror_mode": {
    "name": "ipython",
    "version": 3
   },
   "file_extension": ".py",
   "mimetype": "text/x-python",
   "name": "python",
   "nbconvert_exporter": "python",
   "pygments_lexer": "ipython3",
   "version": "3.9.13"
  }
 },
 "nbformat": 4,
 "nbformat_minor": 2
}
